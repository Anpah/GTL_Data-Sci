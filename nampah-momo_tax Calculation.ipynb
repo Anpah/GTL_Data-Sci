{
 "cells": [
  {
   "cell_type": "code",
   "execution_count": null,
   "metadata": {},
   "outputs": [],
   "source": [
    "# follow the steps to execute the command#\n",
    "def calculate_momo_tax(withdrawal_amount):\n",
    "    if withdrawal_amount < 100:\n",
    "        tax_rate = 0  # No tax\n",
    "    elif withdrawal_amount < 500:\n",
    "        tax_rate = 0.05  # 5% tax rate\n",
    "    elif withdrawal_amount < 1000:\n",
    "        tax_rate = 0.10  # 10% tax rate\n",
    "    elif withdrawal_amount < 5000:\n",
    "        tax_rate = 0.15  # 15% tax rate\n",
    "    else:\n",
    "        tax_rate = 0.20  # 20% tax rate\n",
    "    \n",
    "    tax_amount = withdrawal_amount * tax_rate\n",
    "    total_deduction = withdrawal_amount + tax_amount\n",
    "    \n",
    "    return total_deduction, tax_amount\n",
    "\n",
    "def main():\n",
    "    print(\"Welcome to nampah Company Ltd.\")\n",
    "    \n",
    "    while True:\n",
    "        try:\n",
    "            withdrawal_amount = float(input(\"Enter the withdrawal amount: \"))\n",
    "            if withdrawal_amount <= 0:\n",
    "                print(\"Please enter a valid withdrawal amount.\")\n",
    "                continue\n",
    "\n",
    "            customer_name = input(\"Enter your name: \")\n",
    "\n",
    "            total_deduction, tax_amount = calculate_momo_tax(withdrawal_amount)\n",
    "            print(\"\\nThank you for using nampah Company Ltd.\")\n",
    "            print(f\"Dear {customer_name},\")\n",
    "            print(f\"For your withdrawal amount of {withdrawal_amount:.2f} cedis:\")\n",
    "            print(f\"Tax amount: {tax_amount:.2f} cedis\")\n",
    "            print(f\"Total deduction: {total_deduction:.2f} cedis\")\n",
    "            \n",
    "            retry = input(\"\\nDo you want to make another calculation? (yes/no): \").lower()\n",
    "            if retry != \"yes\":\n",
    "                print(\"Thank you for using our service. Goodbye!\")\n",
    "                break\n",
    "        except ValueError:\n",
    "            print(\"Sorry, please enter a valid withdrawal amount.\")\n",
    "\n",
    "if __name__ == \"__main__\":\n",
    "    main()\n"
   ]
  }
 ],
 "metadata": {
  "kernelspec": {
   "display_name": "Python 3",
   "language": "python",
   "name": "python3"
  },
  "language_info": {
   "codemirror_mode": {
    "name": "ipython",
    "version": 3
   },
   "file_extension": ".py",
   "mimetype": "text/x-python",
   "name": "python",
   "nbconvert_exporter": "python",
   "pygments_lexer": "ipython3",
   "version": "3.8.5"
  }
 },
 "nbformat": 4,
 "nbformat_minor": 4
}
